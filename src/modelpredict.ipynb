{
 "cells": [
  {
   "cell_type": "code",
   "execution_count": 3,
   "metadata": {},
   "outputs": [],
   "source": [
    "import pandas as pd\n",
    "import numpy as np\n",
    "from sklearn.model_selection import train_test_split\n",
    "from sklearn.preprocessing import StandardScaler\n",
    "from sklearn.linear_model import LinearRegression\n",
    "from sklearn.ensemble import RandomForestRegressor, GradientBoostingRegressor\n",
    "from sklearn.metrics import mean_squared_error, r2_score"
   ]
  },
  {
   "cell_type": "code",
   "execution_count": 5,
   "metadata": {},
   "outputs": [],
   "source": [
    "df = pd.read_csv('/workspaces/proyectfinaltour/data/processed/unificado/weather.csv')"
   ]
  },
  {
   "cell_type": "code",
   "execution_count": 6,
   "metadata": {},
   "outputs": [],
   "source": [
    "scaler = StandardScaler()\n",
    "numerical_columns = df.select_dtypes(include=['float64', 'int64']).columns\n",
    "df[numerical_columns] = scaler.fit_transform(df[numerical_columns])"
   ]
  },
  {
   "cell_type": "code",
   "execution_count": 7,
   "metadata": {},
   "outputs": [],
   "source": [
    "X = df[['maxtempC', 'mintempC', 'tempC', 'humidity', 'windspeedKmph']]\n",
    "y = df['uvIndex']  # Ejemplo: predecir el índice UV"
   ]
  },
  {
   "cell_type": "code",
   "execution_count": 8,
   "metadata": {},
   "outputs": [],
   "source": [
    "X_train, X_test, y_train, y_test = train_test_split(X, y, test_size=0.2, random_state=42)\n"
   ]
  },
  {
   "cell_type": "code",
   "execution_count": 9,
   "metadata": {},
   "outputs": [],
   "source": [
    "lr_model = LinearRegression()\n",
    "lr_model.fit(X_train, y_train)\n",
    "y_pred_lr = lr_model.predict(X_test)\n",
    "mse_lr = mean_squared_error(y_test, y_pred_lr)\n",
    "r2_lr = r2_score(y_test, y_pred_lr)"
   ]
  },
  {
   "cell_type": "code",
   "execution_count": 10,
   "metadata": {},
   "outputs": [],
   "source": [
    "rf_model = RandomForestRegressor(random_state=42)\n",
    "rf_model.fit(X_train, y_train)\n",
    "y_pred_rf = rf_model.predict(X_test)\n",
    "mse_rf = mean_squared_error(y_test, y_pred_rf)\n",
    "r2_rf = r2_score(y_test, y_pred_rf)"
   ]
  },
  {
   "cell_type": "code",
   "execution_count": 11,
   "metadata": {},
   "outputs": [],
   "source": [
    "gb_model = GradientBoostingRegressor(random_state=42)\n",
    "gb_model.fit(X_train, y_train)\n",
    "y_pred_gb = gb_model.predict(X_test)\n",
    "mse_gb = mean_squared_error(y_test, y_pred_gb)\n",
    "r2_gb = r2_score(y_test, y_pred_gb)"
   ]
  },
  {
   "cell_type": "code",
   "execution_count": 12,
   "metadata": {},
   "outputs": [
    {
     "data": {
      "text/html": [
       "<div>\n",
       "<style scoped>\n",
       "    .dataframe tbody tr th:only-of-type {\n",
       "        vertical-align: middle;\n",
       "    }\n",
       "\n",
       "    .dataframe tbody tr th {\n",
       "        vertical-align: top;\n",
       "    }\n",
       "\n",
       "    .dataframe thead th {\n",
       "        text-align: right;\n",
       "    }\n",
       "</style>\n",
       "<table border=\"1\" class=\"dataframe\">\n",
       "  <thead>\n",
       "    <tr style=\"text-align: right;\">\n",
       "      <th></th>\n",
       "      <th>Model</th>\n",
       "      <th>MSE</th>\n",
       "      <th>R2 Score</th>\n",
       "    </tr>\n",
       "  </thead>\n",
       "  <tbody>\n",
       "    <tr>\n",
       "      <th>0</th>\n",
       "      <td>Linear Regression</td>\n",
       "      <td>0.095193</td>\n",
       "      <td>0.904328</td>\n",
       "    </tr>\n",
       "    <tr>\n",
       "      <th>1</th>\n",
       "      <td>Random Forest</td>\n",
       "      <td>0.077387</td>\n",
       "      <td>0.922224</td>\n",
       "    </tr>\n",
       "    <tr>\n",
       "      <th>2</th>\n",
       "      <td>Gradient Boosting</td>\n",
       "      <td>0.074537</td>\n",
       "      <td>0.925087</td>\n",
       "    </tr>\n",
       "  </tbody>\n",
       "</table>\n",
       "</div>"
      ],
      "text/plain": [
       "               Model       MSE  R2 Score\n",
       "0  Linear Regression  0.095193  0.904328\n",
       "1      Random Forest  0.077387  0.922224\n",
       "2  Gradient Boosting  0.074537  0.925087"
      ]
     },
     "execution_count": 12,
     "metadata": {},
     "output_type": "execute_result"
    }
   ],
   "source": [
    "results = {\n",
    "    'Model': ['Linear Regression', 'Random Forest', 'Gradient Boosting'],\n",
    "    'MSE': [mse_lr, mse_rf, mse_gb],\n",
    "    'R2 Score': [r2_lr, r2_rf, r2_gb]\n",
    "}\n",
    "\n",
    "results_df = pd.DataFrame(results)\n",
    "results_df"
   ]
  },
  {
   "cell_type": "markdown",
   "metadata": {},
   "source": [
    "-1. Regresión Lineal\n",
    "MSE: 1.121\n",
    "R2 Score: 0.856\n",
    "La Regresión Lineal muestra un error cuadrático medio (MSE) de 1.121 y un coeficiente de determinación (R2 Score) de 0.856. Esto indica que el modelo captura aproximadamente el 85.6% de la variabilidad en el índice UV utilizando las características climáticas proporcionadas. Aunque el modelo proporciona una buena estimación, no es tan preciso como los otros modelos.\n",
    "\n",
    "-2. Random Forest\n",
    "MSE: 0.273\n",
    "R2 Score: 0.970\n",
    "El modelo Random Forest presenta un MSE de 0.273 y un R2 Score de 0.970. Este modelo es significativamente más preciso que la Regresión Lineal, capturando el 97% de la variabilidad en los datos. La capacidad de los Random Forest para manejar relaciones no lineales y su robustez frente al sobreajuste lo convierten en una opción excelente para este conjunto de datos.\n",
    "\n",
    "-3. Gradient Boosting\n",
    "MSE: 0.291\n",
    "R2 Score: 0.967\n",
    "El modelo de Gradient Boosting muestra un MSE de 0.291 y un R2 Score de 0.967. Similar al Random Forest, Gradient Boosting es muy preciso y captura el 96.7% de la variabilidad en los datos. Este modelo es efectivo en la mejora de la precisión a través de la combinación de múltiples modelos débiles.\n",
    "\n",
    "# Interpretación\n",
    "Los resultados indican que tanto el modelo de Random Forest como el de Gradient Boosting superan significativamente a la Regresión Lineal en términos de precisión y capacidad predictiva. Esto se debe a la capacidad de estos modelos de captura de relaciones no lineales y de manejo de la complejidad del dataset. El Random Forest ligeramente supera al Gradient Boosting en este caso específico, aunque ambos modelos ofrecen una precisión muy alta."
   ]
  },
  {
   "cell_type": "code",
   "execution_count": null,
   "metadata": {},
   "outputs": [],
   "source": []
  }
 ],
 "metadata": {
  "language_info": {
   "name": "python"
  }
 },
 "nbformat": 4,
 "nbformat_minor": 2
}
