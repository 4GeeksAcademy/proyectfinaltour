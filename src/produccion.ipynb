{
 "cells": [
  {
   "cell_type": "markdown",
   "metadata": {},
   "source": [
    "# PROYECTO PRODUCCIÓN AGRÍCOLA SEGÚN LA METEOROLOGÍA"
   ]
  },
  {
   "cell_type": "markdown",
   "metadata": {},
   "source": [
    "### 1. Unificación y Limpieza de Datos\n",
    "\n",
    "En esta sección, unificaremos y limpiaremos los datasets meteorológicos y agrícolas. Posteriormente, guardaremos el dataset unificado para su uso en las siguientes fases del proyecto.\n"
   ]
  },
  {
   "cell_type": "code",
   "execution_count": 4,
   "metadata": {},
   "outputs": [],
   "source": [
    "# Importar las librerías necesarias\n",
    "import pandas as pd\n",
    "import numpy as np\n",
    "import matplotlib.pyplot as plt\n",
    "import seaborn as sns\n",
    "from sklearn.model_selection import train_test_split\n",
    "from sklearn.ensemble import RandomForestRegressor\n",
    "from sklearn.metrics import mean_squared_error\n",
    "import joblib"
   ]
  },
  {
   "cell_type": "code",
   "execution_count": 5,
   "metadata": {},
   "outputs": [
    {
     "name": "stdout",
     "output_type": "stream",
     "text": [
      "Columnas en el dataset agrícola: Index(['Ciudad', 'Cultivo', 'year', 'Mes', 'Kilos', 'Hectáreas', 'date'], dtype='object')\n",
      "Columnas en el dataset meteorológico: Index(['city', 'date_time', 'maxtempC', 'mintempC', 'totalSnow_cm', 'sunHour',\n",
      "       'uvIndex', 'uvIndex.1', 'moon_illumination', 'moonrise', 'moonset',\n",
      "       'sunrise', 'sunset', 'DewPointC', 'FeelsLikeC', 'HeatIndexC',\n",
      "       'WindChillC', 'WindGustKmph', 'cloudcover', 'humidity', 'precipMM',\n",
      "       'pressure', 'tempC', 'visibility', 'winddirDegree', 'windspeedKmph'],\n",
      "      dtype='object')\n",
      "Columnas en el dataset meteorológico después de añadir 'year' y 'month': Index(['city', 'date_time', 'maxtempC', 'mintempC', 'totalSnow_cm', 'sunHour',\n",
      "       'uvIndex', 'uvIndex.1', 'moon_illumination', 'moonrise', 'moonset',\n",
      "       'sunrise', 'sunset', 'DewPointC', 'FeelsLikeC', 'HeatIndexC',\n",
      "       'WindChillC', 'WindGustKmph', 'cloudcover', 'humidity', 'precipMM',\n",
      "       'pressure', 'tempC', 'visibility', 'winddirDegree', 'windspeedKmph',\n",
      "       'year', 'month'],\n",
      "      dtype='object')\n",
      "Dataset unificado guardado correctamente.\n"
     ]
    }
   ],
   "source": [
    "# Cargar los datasets\n",
    "agri_df = pd.read_csv('/workspaces/proyectfinaltour/data/processed/datasets/agricola_procesado.csv')\n",
    "weather_df = pd.read_csv('/workspaces/proyectfinaltour/data/processed/datasets/weather.csv')\n",
    "\n",
    "# Verificar las columnas presentes en cada DataFrame\n",
    "print(\"Columnas en el dataset agrícola:\", agri_df.columns)\n",
    "print(\"Columnas en el dataset meteorológico:\", weather_df.columns)\n",
    "\n",
    "# Crear las columnas 'year' y 'month' en el dataset meteorológico\n",
    "weather_df['date_time'] = pd.to_datetime(weather_df['date_time'])\n",
    "weather_df['year'] = weather_df['date_time'].dt.year\n",
    "weather_df['month'] = weather_df['date_time'].dt.month\n",
    "\n",
    "# Verificar si las columnas se crearon correctamente\n",
    "print(\"Columnas en el dataset meteorológico después de añadir 'year' y 'month':\", weather_df.columns)\n",
    "\n",
    "# Unificar los datasets\n",
    "combined_df = pd.merge(agri_df, weather_df, left_on=['Ciudad', 'year', 'Mes'], right_on=['city', 'year', 'month'], how='inner')\n",
    "\n",
    "# Guardar el dataset unificado\n",
    "combined_df.to_csv('/workspaces/proyectfinaltour/data/processed/datasets/combined_dataset.csv', index=False)\n",
    "\n",
    "print(\"Dataset unificado guardado correctamente.\")\n"
   ]
  },
  {
   "cell_type": "code",
   "execution_count": 6,
   "metadata": {},
   "outputs": [
    {
     "name": "stdout",
     "output_type": "stream",
     "text": [
      "   Ciudad Cultivo  year  Mes  Kilos   Hectáreas        date    city  \\\n",
      "0  Bilbao   Olivo  2008    7   1769  363.779398  2008-07-15  Bilbao   \n",
      "1  Bilbao   Olivo  2008    7   1769  363.779398  2008-07-15  Bilbao   \n",
      "2  Bilbao   Olivo  2008    7   1769  363.779398  2008-07-15  Bilbao   \n",
      "3  Bilbao   Olivo  2008    7   1769  363.779398  2008-07-15  Bilbao   \n",
      "4  Bilbao   Olivo  2008    7   1769  363.779398  2008-07-15  Bilbao   \n",
      "\n",
      "    date_time  maxtempC  ...  WindGustKmph  cloudcover  humidity  precipMM  \\\n",
      "0  2008-07-01        22  ...            14          18        82       0.2   \n",
      "1  2008-07-02        18  ...            13          71        88       2.2   \n",
      "2  2008-07-03        18  ...            22          30        74       0.5   \n",
      "3  2008-07-04        26  ...            22          19        63       0.0   \n",
      "4  2008-07-05        18  ...            20          80        89       1.4   \n",
      "\n",
      "   pressure  tempC visibility winddirDegree windspeedKmph month  \n",
      "0      1015     22         10           261            11     7  \n",
      "1      1013     18          8           241             9     7  \n",
      "2      1018     18         10           272            17     7  \n",
      "3      1015     26         10           168            14     7  \n",
      "4      1017     18          6           301            13     7  \n",
      "\n",
      "[5 rows x 34 columns]\n"
     ]
    }
   ],
   "source": [
    "# Cargar el dataset unificado\n",
    "combined_df = pd.read_csv('/workspaces/proyectfinaltour/data/processed/datasets/combined_dataset.csv')\n",
    "\n",
    "# Mostrar las primeras filas \n",
    "print(combined_df.head())"
   ]
  },
  {
   "cell_type": "code",
   "execution_count": 7,
   "metadata": {},
   "outputs": [
    {
     "name": "stdout",
     "output_type": "stream",
     "text": [
      "Index(['Ciudad', 'Cultivo', 'year', 'Mes', 'Kilos', 'Hectáreas', 'city',\n",
      "       'date_time', 'maxtempC', 'mintempC', 'totalSnow_cm', 'sunHour',\n",
      "       'uvIndex', 'uvIndex.1', 'moon_illumination', 'moonrise', 'moonset',\n",
      "       'sunrise', 'sunset', 'DewPointC', 'FeelsLikeC', 'HeatIndexC',\n",
      "       'WindChillC', 'WindGustKmph', 'cloudcover', 'humidity', 'precipMM',\n",
      "       'pressure', 'tempC', 'visibility', 'winddirDegree', 'windspeedKmph',\n",
      "       'month'],\n",
      "      dtype='object')\n"
     ]
    }
   ],
   "source": [
    "# Eliminar la columna 'date' si ya no es necesaria\n",
    "if 'date' in combined_df.columns:\n",
    "    combined_df = combined_df.drop(columns=['date'])\n",
    "\n",
    "# Verificar las columnas después de eliminar 'date'\n",
    "print(combined_df.columns)"
   ]
  },
  {
   "cell_type": "code",
   "execution_count": 8,
   "metadata": {},
   "outputs": [
    {
     "name": "stdout",
     "output_type": "stream",
     "text": [
      "      Ciudad Cultivo  year  Mes    Kilos     Hectáreas      tempC  precipMM  \\\n",
      "0  Barcelona    Maíz  2008    7   973493  15421.892611  25.451613  0.300000   \n",
      "1  Barcelona    Maíz  2008    8   227664  15257.159949  26.677419  0.312903   \n",
      "2  Barcelona    Maíz  2008    9   646140  14428.691635  23.166667  0.463333   \n",
      "3  Barcelona    Maíz  2008   10   205189    779.942823  19.806452  1.696774   \n",
      "4  Barcelona    Maíz  2008   11  1127250   5303.690433  14.200000  1.006667   \n",
      "\n",
      "     sunHour   uvIndex  produccion_por_hectarea  \n",
      "0  14.435484  5.935484                63.124094  \n",
      "1  12.270968  6.096774                14.921781  \n",
      "2  10.993333  5.433333                44.781607  \n",
      "3  10.180645  4.516129               263.082105  \n",
      "4   9.630000  3.800000               212.540685  \n"
     ]
    }
   ],
   "source": [
    "# Agrupar por Ciudad, Cultivo, year y Mes\n",
    "grouped_df = combined_df.groupby(['Ciudad', 'Cultivo', 'year', 'Mes']).agg({\n",
    "    'Kilos': 'sum',\n",
    "    'Hectáreas': 'sum',\n",
    "    'tempC': 'mean',\n",
    "    'precipMM': 'mean',\n",
    "    'sunHour': 'mean',\n",
    "    'uvIndex': 'mean'\n",
    "}).reset_index()\n",
    "\n",
    "# Calcular la producción por hectárea\n",
    "grouped_df['produccion_por_hectarea'] = grouped_df['Kilos'] / grouped_df['Hectáreas']\n",
    "\n",
    "# Mostrar las primeras filas del dataset agrupado\n",
    "print(grouped_df.head())\n"
   ]
  },
  {
   "cell_type": "code",
   "execution_count": 9,
   "metadata": {},
   "outputs": [
    {
     "name": "stdout",
     "output_type": "stream",
     "text": [
      "Dataset agrupado y guardado correctamente.\n"
     ]
    }
   ],
   "source": [
    "# Guardar el dataset agrupado\n",
    "grouped_df.to_csv('/workspaces/proyectfinaltour/data/processed/datasets/combined_dataset.csv', index=False)\n",
    "\n",
    "print(\"Dataset agrupado y guardado correctamente.\")\n"
   ]
  },
  {
   "cell_type": "code",
   "execution_count": 10,
   "metadata": {},
   "outputs": [
    {
     "name": "stdout",
     "output_type": "stream",
     "text": [
      "                year            Mes          Kilos      Hectáreas  \\\n",
      "count  107408.000000  107408.000000  107408.000000  107408.000000   \n",
      "mean     2013.236444       6.666058   25568.094956     253.208748   \n",
      "std         3.038718       3.444694   14116.553935     141.020283   \n",
      "min      2008.000000       1.000000    1002.000000      10.066000   \n",
      "25%      2011.000000       4.000000   13449.000000     130.445645   \n",
      "50%      2013.000000       7.000000   25476.000000     255.176129   \n",
      "75%      2016.000000      10.000000   38008.000000     372.906813   \n",
      "max      2018.000000      12.000000   49998.000000     499.859764   \n",
      "\n",
      "            maxtempC       mintempC   totalSnow_cm        sunHour  \\\n",
      "count  107408.000000  107408.000000  107408.000000  107408.000000   \n",
      "mean       20.508714      12.450283       0.002361      10.634653   \n",
      "std         7.333967       5.504573       0.065104       2.846374   \n",
      "min         0.000000      -6.000000       0.000000       3.400000   \n",
      "25%        15.000000       8.000000       0.000000       8.700000   \n",
      "50%        20.000000      13.000000       0.000000      11.300000   \n",
      "75%        26.000000      17.000000       0.000000      13.100000   \n",
      "max        45.000000      29.000000       5.900000      14.500000   \n",
      "\n",
      "             uvIndex      uvIndex.1  ...   WindGustKmph     cloudcover  \\\n",
      "count  107408.000000  107408.000000  ...  107408.000000  107408.000000   \n",
      "mean        4.540742       4.540742  ...      18.379711      29.213578   \n",
      "std         1.383503       1.383503  ...       8.486033      25.990997   \n",
      "min         1.000000       1.000000  ...       2.000000       0.000000   \n",
      "25%         4.000000       4.000000  ...      12.000000       7.000000   \n",
      "50%         4.000000       4.000000  ...      16.000000      21.000000   \n",
      "75%         6.000000       6.000000  ...      23.000000      47.000000   \n",
      "max         9.000000       9.000000  ...      87.000000     100.000000   \n",
      "\n",
      "            humidity       precipMM       pressure          tempC  \\\n",
      "count  107408.000000  107408.000000  107408.000000  107408.000000   \n",
      "mean       70.570237       1.174345    1017.285044      20.508714   \n",
      "std        15.388729       3.330581       6.647033       7.333967   \n",
      "min        14.000000       0.000000     982.000000       0.000000   \n",
      "25%        64.000000       0.000000    1014.000000      15.000000   \n",
      "50%        74.000000       0.000000    1017.000000      20.000000   \n",
      "75%        81.000000       0.700000    1021.000000      26.000000   \n",
      "max        99.000000     109.800000    1043.000000      45.000000   \n",
      "\n",
      "          visibility  winddirDegree  windspeedKmph          month  \n",
      "count  107408.000000  107408.000000  107408.000000  107408.000000  \n",
      "mean        9.511470     188.186616      11.883472       6.666058  \n",
      "std         1.008376      77.629674       5.475301       3.444694  \n",
      "min         1.000000       5.000000       1.000000       1.000000  \n",
      "25%         9.000000     130.000000       8.000000       4.000000  \n",
      "50%        10.000000     190.000000      11.000000       7.000000  \n",
      "75%        10.000000     247.000000      15.000000      10.000000  \n",
      "max        10.000000     355.000000      55.000000      12.000000  \n",
      "\n",
      "[8 rows x 25 columns]\n"
     ]
    }
   ],
   "source": [
    "# Análisis descriptivo de las variables\n",
    "print(combined_df.describe())"
   ]
  },
  {
   "cell_type": "code",
   "execution_count": 11,
   "metadata": {},
   "outputs": [],
   "source": [
    "# Gráfico de la evolución de la temperatura a lo largo de los años para diferentes ciudades\n",
    "plt.figure(figsize=(10, 6))\n",
    "sns.lineplot(data=combined_df, x='date_time', y='tempC', hue='Ciudad')\n",
    "plt.title('Evolución de la Temperatura por Ciudad')\n",
    "plt.xlabel('Fecha')\n",
    "plt.ylabel('Temperatura (C°)')\n",
    "plt.xticks(rotation=45)\n",
    "plt.show()"
   ]
  },
  {
   "cell_type": "code",
   "execution_count": null,
   "metadata": {},
   "outputs": [],
   "source": [
    "# Gráfico de la evolución de la producción agrícola a lo largo de los años para diferentes cultivos\n",
    "plt.figure(figsize=(10, 6))\n",
    "sns.lineplot(data=combined_df, x='date_time', y='Kilos', hue='Cultivo')\n",
    "plt.title('Evolución de la Producción Agrícola por Cultivo')\n",
    "plt.xlabel('Fecha')\n",
    "plt.ylabel('Producción (Kilos)')\n",
    "plt.xticks(rotation=45)\n",
    "plt.show()"
   ]
  },
  {
   "cell_type": "code",
   "execution_count": null,
   "metadata": {},
   "outputs": [],
   "source": [
    "# Gráfico de la evolución de la producción agrícola a lo largo de los años para diferentes cultivos\n",
    "plt.figure(figsize=(10, 6))\n",
    "sns.lineplot(data=combined_df, x='date_time', y='Kilos', hue='Cultivo')\n",
    "plt.title('Evolución de la Producción Agrícola por Cultivo')\n",
    "plt.xlabel('Fecha')\n",
    "plt.ylabel('Producción (Kilos)')\n",
    "plt.xticks(rotation=45)\n",
    "plt.show()"
   ]
  },
  {
   "cell_type": "code",
   "execution_count": null,
   "metadata": {},
   "outputs": [],
   "source": [
    "# Gráfico de la evolución de la producción agrícola a lo largo de los años para diferentes cultivos\n",
    "plt.figure(figsize=(10, 6))\n",
    "sns.lineplot(data=combined_df, x='date_time', y='Kilos', hue='Cultivo')\n",
    "plt.title('Evolución de la Producción Agrícola por Cultivo')\n",
    "plt.xlabel('Fecha')\n",
    "plt.ylabel('Producción (Kilos)')\n",
    "plt.xticks(rotation=45)\n",
    "plt.show()"
   ]
  },
  {
   "cell_type": "code",
   "execution_count": null,
   "metadata": {},
   "outputs": [],
   "source": [
    "# Gráfico de la evolución de las horas de sol a lo largo de los años para diferentes ciudades\n",
    "plt.figure(figsize=(10, 6))\n",
    "sns.lineplot(data=combined_df, x='date_time', y='sunHour', hue='Ciudad')\n",
    "plt.title('Evolución de las Horas de Sol por Ciudad')\n",
    "plt.xlabel('Fecha')\n",
    "plt.ylabel('Horas de Sol')\n",
    "plt.xticks(rotation=45)\n",
    "plt.show()"
   ]
  }
 ],
 "metadata": {
  "language_info": {
   "name": "python"
  }
 },
 "nbformat": 4,
 "nbformat_minor": 2
}
